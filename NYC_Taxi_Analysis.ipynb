{
  "cells": [
    {
      "cell_type": "code",
      "execution_count": null,
      "metadata": {
        "scrolled": true,
        "id": "EyAzEHkcr-61",
        "outputId": "5d5b2d26-1336-49dd-b893-3da62b6c26c0",
        "colab": {
          "base_uri": "https://localhost:8080/"
        }
      },
      "outputs": [
        {
          "output_type": "stream",
          "name": "stdout",
          "text": [
            "Requirement already satisfied: pyspark in /usr/local/lib/python3.11/dist-packages (3.5.5)\n",
            "Requirement already satisfied: py4j==0.10.9.7 in /usr/local/lib/python3.11/dist-packages (from pyspark) (0.10.9.7)\n"
          ]
        }
      ],
      "source": [
        "!pip install pyspark"
      ]
    },
    {
      "cell_type": "code",
      "execution_count": null,
      "metadata": {
        "id": "EjVSxoN1r-65",
        "outputId": "23fc66e4-1dab-4a71-f690-0608910a40e8",
        "colab": {
          "base_uri": "https://localhost:8080/"
        }
      },
      "outputs": [
        {
          "output_type": "stream",
          "name": "stdout",
          "text": [
            "Get:1 http://security.ubuntu.com/ubuntu jammy-security InRelease [129 kB]\n",
            "Hit:2 http://archive.ubuntu.com/ubuntu jammy InRelease\n",
            "Get:3 https://cloud.r-project.org/bin/linux/ubuntu jammy-cran40/ InRelease [3,632 B]\n",
            "Get:4 https://developer.download.nvidia.com/compute/cuda/repos/ubuntu2204/x86_64  InRelease [1,581 B]\n",
            "Get:5 http://archive.ubuntu.com/ubuntu jammy-updates InRelease [128 kB]\n",
            "Get:6 https://r2u.stat.illinois.edu/ubuntu jammy InRelease [6,555 B]\n",
            "Hit:7 https://ppa.launchpadcontent.net/deadsnakes/ppa/ubuntu jammy InRelease\n",
            "Hit:8 https://ppa.launchpadcontent.net/graphics-drivers/ppa/ubuntu jammy InRelease\n",
            "Get:9 http://security.ubuntu.com/ubuntu jammy-security/universe amd64 Packages [1,244 kB]\n",
            "Hit:10 https://ppa.launchpadcontent.net/ubuntugis/ppa/ubuntu jammy InRelease\n",
            "Get:11 http://archive.ubuntu.com/ubuntu jammy-backports InRelease [127 kB]\n",
            "Get:12 https://cloud.r-project.org/bin/linux/ubuntu jammy-cran40/ Packages [77.5 kB]\n",
            "Get:13 https://developer.download.nvidia.com/compute/cuda/repos/ubuntu2204/x86_64  Packages [1,659 kB]\n",
            "Get:14 https://r2u.stat.illinois.edu/ubuntu jammy/main amd64 Packages [2,715 kB]\n",
            "Get:15 https://r2u.stat.illinois.edu/ubuntu jammy/main all Packages [8,910 kB]\n",
            "Get:16 http://archive.ubuntu.com/ubuntu jammy-updates/main amd64 Packages [3,200 kB]\n",
            "Get:17 http://archive.ubuntu.com/ubuntu jammy-updates/restricted amd64 Packages [4,420 kB]\n",
            "Get:18 http://archive.ubuntu.com/ubuntu jammy-updates/universe amd64 Packages [1,544 kB]\n",
            "Get:19 http://archive.ubuntu.com/ubuntu jammy-updates/multiverse amd64 Packages [55.7 kB]\n",
            "Fetched 24.2 MB in 6s (4,076 kB/s)\n",
            "Reading package lists... Done\n",
            "Building dependency tree... Done\n",
            "Reading state information... Done\n",
            "43 packages can be upgraded. Run 'apt list --upgradable' to see them.\n",
            "\u001b[1;33mW: \u001b[0mSkipping acquire of configured file 'main/source/Sources' as repository 'https://r2u.stat.illinois.edu/ubuntu jammy InRelease' does not seem to provide it (sources.list entry misspelt?)\u001b[0m\n"
          ]
        }
      ],
      "source": [
        "!sudo apt update"
      ]
    },
    {
      "cell_type": "code",
      "execution_count": null,
      "metadata": {
        "scrolled": true,
        "id": "tk_JxYlCr-66",
        "outputId": "3e1d6022-8a0a-4002-b45c-9b4870bbf1ad",
        "colab": {
          "base_uri": "https://localhost:8080/"
        }
      },
      "outputs": [
        {
          "output_type": "stream",
          "name": "stdout",
          "text": [
            "Reading package lists... Done\n",
            "Building dependency tree... Done\n",
            "Reading state information... Done\n",
            "The following additional packages will be installed:\n",
            "  fonts-dejavu-core fonts-dejavu-extra libatk-wrapper-java\n",
            "  libatk-wrapper-java-jni libxt-dev libxtst6 libxxf86dga1 openjdk-11-jre\n",
            "  x11-utils\n",
            "Suggested packages:\n",
            "  libxt-doc openjdk-11-demo openjdk-11-source visualvm mesa-utils\n",
            "The following NEW packages will be installed:\n",
            "  fonts-dejavu-core fonts-dejavu-extra libatk-wrapper-java\n",
            "  libatk-wrapper-java-jni libxt-dev libxtst6 libxxf86dga1 openjdk-11-jdk\n",
            "  openjdk-11-jre x11-utils\n",
            "0 upgraded, 10 newly installed, 0 to remove and 43 not upgraded.\n",
            "Need to get 5,366 kB of archives.\n",
            "After this operation, 15.2 MB of additional disk space will be used.\n",
            "Get:1 http://archive.ubuntu.com/ubuntu jammy/main amd64 fonts-dejavu-core all 2.37-2build1 [1,041 kB]\n",
            "Get:2 http://archive.ubuntu.com/ubuntu jammy/main amd64 fonts-dejavu-extra all 2.37-2build1 [2,041 kB]\n",
            "Get:3 http://archive.ubuntu.com/ubuntu jammy/main amd64 libxtst6 amd64 2:1.2.3-1build4 [13.4 kB]\n",
            "Get:4 http://archive.ubuntu.com/ubuntu jammy/main amd64 libxxf86dga1 amd64 2:1.1.5-0ubuntu3 [12.6 kB]\n",
            "Get:5 http://archive.ubuntu.com/ubuntu jammy/main amd64 x11-utils amd64 7.7+5build2 [206 kB]\n",
            "Get:6 http://archive.ubuntu.com/ubuntu jammy/main amd64 libatk-wrapper-java all 0.38.0-5build1 [53.1 kB]\n",
            "Get:7 http://archive.ubuntu.com/ubuntu jammy/main amd64 libatk-wrapper-java-jni amd64 0.38.0-5build1 [49.0 kB]\n",
            "Get:8 http://archive.ubuntu.com/ubuntu jammy/main amd64 libxt-dev amd64 1:1.2.1-1 [396 kB]\n",
            "Get:9 http://archive.ubuntu.com/ubuntu jammy-updates/main amd64 openjdk-11-jre amd64 11.0.26+4-1ubuntu1~22.04 [214 kB]\n",
            "Get:10 http://archive.ubuntu.com/ubuntu jammy-updates/main amd64 openjdk-11-jdk amd64 11.0.26+4-1ubuntu1~22.04 [1,341 kB]\n",
            "Fetched 5,366 kB in 1s (4,686 kB/s)\n",
            "debconf: unable to initialize frontend: Dialog\n",
            "debconf: (No usable dialog-like program is installed, so the dialog based frontend cannot be used. at /usr/share/perl5/Debconf/FrontEnd/Dialog.pm line 78, <> line 10.)\n",
            "debconf: falling back to frontend: Readline\n",
            "debconf: unable to initialize frontend: Readline\n",
            "debconf: (This frontend requires a controlling tty.)\n",
            "debconf: falling back to frontend: Teletype\n",
            "dpkg-preconfigure: unable to re-open stdin: \n",
            "Selecting previously unselected package fonts-dejavu-core.\n",
            "(Reading database ... 126101 files and directories currently installed.)\n",
            "Preparing to unpack .../0-fonts-dejavu-core_2.37-2build1_all.deb ...\n",
            "Unpacking fonts-dejavu-core (2.37-2build1) ...\n",
            "Selecting previously unselected package fonts-dejavu-extra.\n",
            "Preparing to unpack .../1-fonts-dejavu-extra_2.37-2build1_all.deb ...\n",
            "Unpacking fonts-dejavu-extra (2.37-2build1) ...\n",
            "Selecting previously unselected package libxtst6:amd64.\n",
            "Preparing to unpack .../2-libxtst6_2%3a1.2.3-1build4_amd64.deb ...\n",
            "Unpacking libxtst6:amd64 (2:1.2.3-1build4) ...\n",
            "Selecting previously unselected package libxxf86dga1:amd64.\n",
            "Preparing to unpack .../3-libxxf86dga1_2%3a1.1.5-0ubuntu3_amd64.deb ...\n",
            "Unpacking libxxf86dga1:amd64 (2:1.1.5-0ubuntu3) ...\n",
            "Selecting previously unselected package x11-utils.\n",
            "Preparing to unpack .../4-x11-utils_7.7+5build2_amd64.deb ...\n",
            "Unpacking x11-utils (7.7+5build2) ...\n",
            "Selecting previously unselected package libatk-wrapper-java.\n",
            "Preparing to unpack .../5-libatk-wrapper-java_0.38.0-5build1_all.deb ...\n",
            "Unpacking libatk-wrapper-java (0.38.0-5build1) ...\n",
            "Selecting previously unselected package libatk-wrapper-java-jni:amd64.\n",
            "Preparing to unpack .../6-libatk-wrapper-java-jni_0.38.0-5build1_amd64.deb ...\n",
            "Unpacking libatk-wrapper-java-jni:amd64 (0.38.0-5build1) ...\n",
            "Selecting previously unselected package libxt-dev:amd64.\n",
            "Preparing to unpack .../7-libxt-dev_1%3a1.2.1-1_amd64.deb ...\n",
            "Unpacking libxt-dev:amd64 (1:1.2.1-1) ...\n",
            "Selecting previously unselected package openjdk-11-jre:amd64.\n",
            "Preparing to unpack .../8-openjdk-11-jre_11.0.26+4-1ubuntu1~22.04_amd64.deb ...\n",
            "Unpacking openjdk-11-jre:amd64 (11.0.26+4-1ubuntu1~22.04) ...\n",
            "Selecting previously unselected package openjdk-11-jdk:amd64.\n",
            "Preparing to unpack .../9-openjdk-11-jdk_11.0.26+4-1ubuntu1~22.04_amd64.deb ...\n",
            "Unpacking openjdk-11-jdk:amd64 (11.0.26+4-1ubuntu1~22.04) ...\n",
            "Setting up libxtst6:amd64 (2:1.2.3-1build4) ...\n",
            "Setting up libxxf86dga1:amd64 (2:1.1.5-0ubuntu3) ...\n",
            "Setting up openjdk-11-jre:amd64 (11.0.26+4-1ubuntu1~22.04) ...\n",
            "Setting up libxt-dev:amd64 (1:1.2.1-1) ...\n",
            "Setting up fonts-dejavu-core (2.37-2build1) ...\n",
            "Setting up fonts-dejavu-extra (2.37-2build1) ...\n",
            "Setting up x11-utils (7.7+5build2) ...\n",
            "Setting up openjdk-11-jdk:amd64 (11.0.26+4-1ubuntu1~22.04) ...\n",
            "update-alternatives: using /usr/lib/jvm/java-11-openjdk-amd64/bin/jconsole to provide /usr/bin/jconsole (jconsole) in auto mode\n",
            "Setting up libatk-wrapper-java (0.38.0-5build1) ...\n",
            "Setting up libatk-wrapper-java-jni:amd64 (0.38.0-5build1) ...\n",
            "Processing triggers for fontconfig (2.13.1-4.2ubuntu5) ...\n",
            "Processing triggers for hicolor-icon-theme (0.17-2) ...\n",
            "Processing triggers for libc-bin (2.35-0ubuntu3.8) ...\n",
            "/sbin/ldconfig.real: /usr/local/lib/libtcm_debug.so.1 is not a symbolic link\n",
            "\n",
            "/sbin/ldconfig.real: /usr/local/lib/libtbbmalloc_proxy.so.2 is not a symbolic link\n",
            "\n",
            "/sbin/ldconfig.real: /usr/local/lib/libtbb.so.12 is not a symbolic link\n",
            "\n",
            "/sbin/ldconfig.real: /usr/local/lib/libumf.so.0 is not a symbolic link\n",
            "\n",
            "/sbin/ldconfig.real: /usr/local/lib/libur_adapter_opencl.so.0 is not a symbolic link\n",
            "\n",
            "/sbin/ldconfig.real: /usr/local/lib/libtbbbind.so.3 is not a symbolic link\n",
            "\n",
            "/sbin/ldconfig.real: /usr/local/lib/libur_loader.so.0 is not a symbolic link\n",
            "\n",
            "/sbin/ldconfig.real: /usr/local/lib/libtbbbind_2_0.so.3 is not a symbolic link\n",
            "\n",
            "/sbin/ldconfig.real: /usr/local/lib/libtcm.so.1 is not a symbolic link\n",
            "\n",
            "/sbin/ldconfig.real: /usr/local/lib/libtbbbind_2_5.so.3 is not a symbolic link\n",
            "\n",
            "/sbin/ldconfig.real: /usr/local/lib/libtbbmalloc.so.2 is not a symbolic link\n",
            "\n",
            "/sbin/ldconfig.real: /usr/local/lib/libhwloc.so.15 is not a symbolic link\n",
            "\n",
            "/sbin/ldconfig.real: /usr/local/lib/libur_adapter_level_zero.so.0 is not a symbolic link\n",
            "\n",
            "Processing triggers for man-db (2.10.2-1) ...\n",
            "Processing triggers for mailcap (3.70+nmu1ubuntu1) ...\n"
          ]
        }
      ],
      "source": [
        "!sudo apt install -y openjdk-11-jdk"
      ]
    },
    {
      "cell_type": "code",
      "execution_count": null,
      "metadata": {
        "id": "N2oaIlGjr-67",
        "outputId": "dc515498-7977-4e5d-a577-8f5b8a7fb833",
        "colab": {
          "base_uri": "https://localhost:8080/"
        }
      },
      "outputs": [
        {
          "output_type": "stream",
          "name": "stdout",
          "text": [
            "openjdk version \"11.0.26\" 2025-01-21\n",
            "OpenJDK Runtime Environment (build 11.0.26+4-post-Ubuntu-1ubuntu122.04)\n",
            "OpenJDK 64-Bit Server VM (build 11.0.26+4-post-Ubuntu-1ubuntu122.04, mixed mode, sharing)\n"
          ]
        }
      ],
      "source": [
        "!java -version\n"
      ]
    },
    {
      "cell_type": "markdown",
      "metadata": {
        "id": "HzPpSWOv-hHh"
      },
      "source": [
        "### Import Libraries"
      ]
    },
    {
      "cell_type": "code",
      "execution_count": null,
      "metadata": {
        "id": "vEuxa3Av-edu"
      },
      "outputs": [],
      "source": [
        "from pyspark.sql import SparkSession\n",
        "from pyspark.sql.functions import (\n",
        "    count, when, col, mean, sum, length, to_timestamp,\n",
        "    hour, dayofweek, month, year, unix_timestamp, rand, isnan, isnull\n",
        ")\n",
        "from pyspark.sql.types import DoubleType\n",
        "from pyspark.ml.feature import VectorAssembler, StandardScaler\n",
        "from pyspark.ml.regression import RandomForestRegressor, LinearRegression\n",
        "from pyspark.ml.evaluation import RegressionEvaluator\n",
        "import matplotlib.pyplot as plt"
      ]
    },
    {
      "cell_type": "code",
      "execution_count": null,
      "metadata": {
        "id": "X9pXJjDa-rC3",
        "scrolled": true
      },
      "outputs": [],
      "source": [
        "spark = SparkSession.builder \\\n",
        "    .appName(\"NYC_Taxi_Trip_Data_Analysis\") \\\n",
        "    .config(\"spark.executor.memory\", \"10g\") \\\n",
        "    .config(\"spark.driver.memory\", \"10g\") \\\n",
        "    .config(\"spark.sql.adaptive.enabled\", \"true\") \\\n",
        "    .getOrCreate()\n",
        "spark.sparkContext.setLogLevel(\"ERROR\")"
      ]
    },
    {
      "cell_type": "code",
      "execution_count": null,
      "metadata": {
        "id": "fX4r3iro-rL_"
      },
      "outputs": [],
      "source": [
        "file_paths = [\n",
        "    \"yellow_tripdata_2024-06.parquet\",\n",
        "    \"yellow_tripdata_2024-07.parquet\",\n",
        "    \"yellow_tripdata_2024-08.parquet\",\n",
        "    \"yellow_tripdata_2024-09.parquet\"\n",
        "]"
      ]
    },
    {
      "cell_type": "code",
      "execution_count": null,
      "metadata": {
        "id": "kiVELu7AYqTz"
      },
      "outputs": [],
      "source": [
        "df = spark.read.parquet(file_paths[0])\n",
        "for path in file_paths[1:]:\n",
        "    new_df = spark.read.parquet(path)\n",
        "    df = df.union(new_df)"
      ]
    },
    {
      "cell_type": "code",
      "execution_count": null,
      "metadata": {
        "id": "vPmCQPa2r-7A",
        "outputId": "9232513f-fb90-47a5-a3ea-00b8c03d9c1b",
        "colab": {
          "base_uri": "https://localhost:8080/"
        }
      },
      "outputs": [
        {
          "output_type": "execute_result",
          "data": {
            "text/plain": [
              "DataFrame[VendorID: int, tpep_pickup_datetime: timestamp_ntz, tpep_dropoff_datetime: timestamp_ntz, passenger_count: bigint, trip_distance: double, RatecodeID: bigint, store_and_fwd_flag: string, PULocationID: int, DOLocationID: int, payment_type: bigint, fare_amount: double, extra: double, mta_tax: double, tip_amount: double, tolls_amount: double, improvement_surcharge: double, total_amount: double, congestion_surcharge: double, Airport_fee: double]"
            ]
          },
          "metadata": {},
          "execution_count": 9
        }
      ],
      "source": [
        "df.cache()"
      ]
    },
    {
      "cell_type": "markdown",
      "metadata": {
        "id": "J427GGKM_B3w"
      },
      "source": [
        "### Exploratory Data Analysis"
      ]
    },
    {
      "cell_type": "code",
      "execution_count": null,
      "metadata": {
        "colab": {
          "base_uri": "https://localhost:8080/"
        },
        "id": "gpQdBiyuF84D",
        "outputId": "6bd5a831-6633-4001-dd0e-a6f55a429c8f"
      },
      "outputs": [
        {
          "output_type": "stream",
          "name": "stdout",
          "text": [
            "+--------+--------------------+---------------------+---------------+-------------+----------+------------------+------------+------------+------------+-----------+-----+-------+----------+------------+---------------------+------------+--------------------+-----------+\n",
            "|VendorID|tpep_pickup_datetime|tpep_dropoff_datetime|passenger_count|trip_distance|RatecodeID|store_and_fwd_flag|PULocationID|DOLocationID|payment_type|fare_amount|extra|mta_tax|tip_amount|tolls_amount|improvement_surcharge|total_amount|congestion_surcharge|Airport_fee|\n",
            "+--------+--------------------+---------------------+---------------+-------------+----------+------------------+------------+------------+------------+-----------+-----+-------+----------+------------+---------------------+------------+--------------------+-----------+\n",
            "|       1| 2024-06-01 00:03:46|  2024-06-01 00:31:23|              1|         12.5|         1|                 N|         138|         195|           1|       48.5| 7.75|    0.5|     11.55|         0.0|                  1.0|        69.3|                 0.0|       1.75|\n",
            "|       2| 2024-06-01 00:55:22|  2024-06-01 01:08:24|              1|         4.34|         1|                 N|         138|           7|           1|       20.5|  6.0|    0.5|       8.4|         0.0|                  1.0|       38.15|                 0.0|       1.75|\n",
            "|       1| 2024-06-01 00:23:53|  2024-06-01 00:32:35|              1|          1.3|         1|                 N|         166|          41|           1|       10.0|  1.0|    0.5|       3.1|         0.0|                  1.0|        15.6|                 0.0|        0.0|\n",
            "|       1| 2024-06-01 00:32:24|  2024-06-01 00:40:06|              1|          1.2|         1|                 N|         148|         114|           1|        8.6|  3.5|    0.5|       0.2|         0.0|                  1.0|        13.8|                 2.5|        0.0|\n",
            "|       1| 2024-06-01 00:51:38|  2024-06-01 00:58:17|              1|          1.0|         1|                 N|         148|         249|           1|        7.2|  3.5|    0.5|       2.0|         0.0|                  1.0|        14.2|                 2.5|        0.0|\n",
            "|       2| 2024-06-01 00:26:13|  2024-06-01 00:37:21|              1|          1.5|         1|                 N|          48|         229|           1|       11.4|  1.0|    0.5|       2.0|         0.0|                  1.0|        18.4|                 2.5|        0.0|\n",
            "|       2| 2024-06-01 00:01:04|  2024-06-01 00:57:48|              1|        18.41|         2|                 N|         132|          48|           1|       70.0|  0.0|    0.5|      0.15|        6.94|                  1.0|       82.84|                 2.5|       1.75|\n",
            "|       1| 2024-06-01 00:43:55|  2024-06-01 00:49:03|              4|          1.4|         1|                 N|         140|         236|           1|        7.9|  3.5|    0.5|       2.6|         0.0|                  1.0|        15.5|                 2.5|        0.0|\n",
            "|       2| 2024-05-31 23:38:07|  2024-05-31 23:51:42|              1|         2.31|         1|                 N|         230|         239|           1|       14.9|  1.0|    0.5|      3.98|         0.0|                  1.0|       23.88|                 2.5|        0.0|\n",
            "|       2| 2024-06-01 00:00:09|  2024-06-01 00:05:11|              1|         0.74|         1|                 N|         142|         239|           1|        6.5|  1.0|    0.5|       2.3|         0.0|                  1.0|        13.8|                 2.5|        0.0|\n",
            "|       2| 2024-06-01 00:16:07|  2024-06-01 00:36:14|              1|         1.78|         1|                 N|          48|         170|           1|       17.7|  1.0|    0.5|       1.0|         0.0|                  1.0|        23.7|                 2.5|        0.0|\n",
            "|       2| 2024-06-01 00:07:59|  2024-06-01 00:19:43|              1|         2.94|         1|                 N|         234|         142|           1|       15.6|  1.0|    0.5|      5.15|         0.0|                  1.0|       25.75|                 2.5|        0.0|\n",
            "|       2| 2024-06-01 00:34:56|  2024-06-01 00:43:47|              1|         1.82|         1|                 N|         186|          43|           1|       11.4|  1.0|    0.5|       1.5|         0.0|                  1.0|        17.9|                 2.5|        0.0|\n",
            "|       2| 2024-06-01 00:19:02|  2024-06-01 00:27:30|              1|         1.26|         1|                 N|         158|         125|           1|        9.3|  1.0|    0.5|       0.0|         0.0|                  1.0|        14.3|                 2.5|        0.0|\n",
            "|       2| 2024-06-01 00:34:08|  2024-06-01 00:41:19|              1|         1.04|         1|                 N|         249|          68|           1|        8.6|  1.0|    0.5|      2.72|         0.0|                  1.0|       16.32|                 2.5|        0.0|\n",
            "|       1| 2024-06-01 00:11:50|  2024-06-01 00:34:56|              1|          3.7|         1|                 N|          50|           4|           1|       22.6|  3.5|    0.5|       4.0|         0.0|                  1.0|        31.6|                 2.5|        0.0|\n",
            "|       1| 2024-06-01 00:49:34|  2024-06-01 00:56:29|              2|          0.9|         1|                 N|         137|         234|           1|        7.9|  3.5|    0.5|      2.55|         0.0|                  1.0|       15.45|                 2.5|        0.0|\n",
            "|       2| 2024-06-01 00:06:49|  2024-06-01 00:20:51|              1|          5.4|         1|                 N|          50|         116|           2|       24.0|  1.0|    0.5|       0.0|         0.0|                  1.0|        29.0|                 2.5|        0.0|\n",
            "|       1| 2024-06-01 00:28:48|  2024-06-01 00:39:02|              1|          1.5|         1|                 N|         162|         164|           2|       11.4|  3.5|    0.5|       0.0|         0.0|                  1.0|        16.4|                 2.5|        0.0|\n",
            "|       2| 2024-06-01 00:14:52|  2024-06-01 00:43:25|              1|          5.3|         1|                 N|         231|         143|           1|       30.3|  1.0|    0.5|      7.06|         0.0|                  1.0|       42.36|                 2.5|        0.0|\n",
            "+--------+--------------------+---------------------+---------------+-------------+----------+------------------+------------+------------+------------+-----------+-----+-------+----------+------------+---------------------+------------+--------------------+-----------+\n",
            "only showing top 20 rows\n",
            "\n"
          ]
        }
      ],
      "source": [
        "df.show()"
      ]
    },
    {
      "cell_type": "code",
      "execution_count": null,
      "metadata": {
        "colab": {
          "base_uri": "https://localhost:8080/"
        },
        "id": "lvxBfsdi_FHT",
        "outputId": "96f9e259-8a1c-4fc8-d3a6-c144efe9a249"
      },
      "outputs": [
        {
          "output_type": "stream",
          "name": "stdout",
          "text": [
            "root\n",
            " |-- VendorID: integer (nullable = true)\n",
            " |-- tpep_pickup_datetime: timestamp_ntz (nullable = true)\n",
            " |-- tpep_dropoff_datetime: timestamp_ntz (nullable = true)\n",
            " |-- passenger_count: long (nullable = true)\n",
            " |-- trip_distance: double (nullable = true)\n",
            " |-- RatecodeID: long (nullable = true)\n",
            " |-- store_and_fwd_flag: string (nullable = true)\n",
            " |-- PULocationID: integer (nullable = true)\n",
            " |-- DOLocationID: integer (nullable = true)\n",
            " |-- payment_type: long (nullable = true)\n",
            " |-- fare_amount: double (nullable = true)\n",
            " |-- extra: double (nullable = true)\n",
            " |-- mta_tax: double (nullable = true)\n",
            " |-- tip_amount: double (nullable = true)\n",
            " |-- tolls_amount: double (nullable = true)\n",
            " |-- improvement_surcharge: double (nullable = true)\n",
            " |-- total_amount: double (nullable = true)\n",
            " |-- congestion_surcharge: double (nullable = true)\n",
            " |-- Airport_fee: double (nullable = true)\n",
            "\n"
          ]
        }
      ],
      "source": [
        "df.printSchema()"
      ]
    },
    {
      "cell_type": "code",
      "execution_count": null,
      "metadata": {
        "id": "HlvUO1dw_Ij1",
        "outputId": "814fdbe5-3c78-407a-acc5-d0d5aaaa6e72",
        "colab": {
          "base_uri": "https://localhost:8080/"
        }
      },
      "outputs": [
        {
          "output_type": "stream",
          "name": "stdout",
          "text": [
            "+-------+-------------------+------------------+------------------+------------------+------------------+------------------+-----------------+------------------+------------------+------------------+-------------------+------------------+------------------+---------------------+------------------+--------------------+-------------------+\n",
            "|summary|           VendorID|   passenger_count|     trip_distance|        RatecodeID|store_and_fwd_flag|      PULocationID|     DOLocationID|      payment_type|       fare_amount|             extra|            mta_tax|        tip_amount|      tolls_amount|improvement_surcharge|      total_amount|congestion_surcharge|        Airport_fee|\n",
            "+-------+-------------------+------------------+------------------+------------------+------------------+------------------+-----------------+------------------+------------------+------------------+-------------------+------------------+------------------+---------------------+------------------+--------------------+-------------------+\n",
            "|  count|           13228309|          11796141|          13228309|          11796141|          11796141|          13228309|         13228309|          13228309|          13228309|          13228309|           13228309|          13228309|          13228309|             13228309|          13228309|            11796141|           11796141|\n",
            "|   mean| 1.7683998007606263|1.3374829954982737| 5.276615270326247|2.4335412742184075|              NULL|162.92725600830764|162.2939622895111|1.1062829723738687| 19.67546580443316|1.3736998478036764|0.47840664517286374|3.2731868147325165|0.5856590460637322|   0.9576220059570758|28.210830180181752|  2.2086505044319154|0.16091158540746503|\n",
            "| stddev|0.42206809592108874|0.8146529849244141|420.54760186397596|11.364073844658918|              NULL|   64.375206898769|69.75272845058119|0.6712263803739015|20.441654860363904|1.8256723466295979|0.13425347596243928| 4.171035414927602|2.2876220172793604|  0.26808723938012957| 25.16170513333829|   0.905666467994968| 0.5247439371165746|\n",
            "|    min|                  1|                 0|               0.0|                 1|                 N|                 1|                1|                 0|           -2261.2|              -7.5|               -0.5|            -99.01|           -117.26|                 -1.0|          -2265.45|                -2.5|              -1.75|\n",
            "|    max|                  6|                 9|         330397.59|                99|                 Y|               265|              265|                 5|           12898.4|             16.19|               25.0|            747.47|            476.35|                  1.0|           12903.4|                2.52|               1.75|\n",
            "+-------+-------------------+------------------+------------------+------------------+------------------+------------------+-----------------+------------------+------------------+------------------+-------------------+------------------+------------------+---------------------+------------------+--------------------+-------------------+\n",
            "\n"
          ]
        }
      ],
      "source": [
        "df.describe().show()"
      ]
    },
    {
      "cell_type": "code",
      "execution_count": null,
      "metadata": {
        "colab": {
          "base_uri": "https://localhost:8080/"
        },
        "id": "2vI8VTOc_Lz_",
        "outputId": "b4e795f5-c20c-4616-bdd7-0eeae39d39dd"
      },
      "outputs": [
        {
          "output_type": "stream",
          "name": "stdout",
          "text": [
            "+-------+-------------------+------------------+------------------+------------------+------------------+------------------+-----------------+------------------+------------------+------------------+-------------------+------------------+------------------+---------------------+------------------+--------------------+-------------------+\n",
            "|summary|           VendorID|   passenger_count|     trip_distance|        RatecodeID|store_and_fwd_flag|      PULocationID|     DOLocationID|      payment_type|       fare_amount|             extra|            mta_tax|        tip_amount|      tolls_amount|improvement_surcharge|      total_amount|congestion_surcharge|        Airport_fee|\n",
            "+-------+-------------------+------------------+------------------+------------------+------------------+------------------+-----------------+------------------+------------------+------------------+-------------------+------------------+------------------+---------------------+------------------+--------------------+-------------------+\n",
            "|  count|           13228309|          11796141|          13228309|          11796141|          11796141|          13228309|         13228309|          13228309|          13228309|          13228309|           13228309|          13228309|          13228309|             13228309|          13228309|            11796141|           11796141|\n",
            "|   mean| 1.7683998007606263|1.3374829954982737| 5.276615270326247|2.4335412742184075|              NULL|162.92725600830764|162.2939622895111|1.1062829723738687| 19.67546580443316|1.3736998478036764|0.47840664517286374|3.2731868147325165|0.5856590460637322|   0.9576220059570758|28.210830180181752|  2.2086505044319154|0.16091158540746503|\n",
            "| stddev|0.42206809592108874|0.8146529849244141|420.54760186397596|11.364073844658918|              NULL|   64.375206898769|69.75272845058119|0.6712263803739015|20.441654860363904|1.8256723466295979|0.13425347596243928| 4.171035414927602|2.2876220172793604|  0.26808723938012957| 25.16170513333829|   0.905666467994968| 0.5247439371165746|\n",
            "|    min|                  1|                 0|               0.0|                 1|                 N|                 1|                1|                 0|           -2261.2|              -7.5|               -0.5|            -99.01|           -117.26|                 -1.0|          -2265.45|                -2.5|              -1.75|\n",
            "|    25%|                  2|                 1|              1.04|                 1|              NULL|               132|              113|                 1|               9.3|               0.0|                0.5|               0.0|               0.0|                  1.0|              15.8|                 2.5|                0.0|\n",
            "|    50%|                  2|                 1|               1.8|                 1|              NULL|               161|              162|                 1|              14.2|               1.0|                0.5|              2.52|               0.0|                  1.0|              21.0|                 2.5|                0.0|\n",
            "|    75%|                  2|                 1|               3.5|                 1|              NULL|               232|              233|                 1|             22.87|               2.5|                0.5|               4.2|               0.0|                  1.0|              31.0|                 2.5|                0.0|\n",
            "|    max|                  6|                 9|         330397.59|                99|                 Y|               265|              265|                 5|           12898.4|             16.19|               25.0|            747.47|            476.35|                  1.0|           12903.4|                2.52|               1.75|\n",
            "+-------+-------------------+------------------+------------------+------------------+------------------+------------------+-----------------+------------------+------------------+------------------+-------------------+------------------+------------------+---------------------+------------------+--------------------+-------------------+\n",
            "\n"
          ]
        }
      ],
      "source": [
        "df.summary().show()"
      ]
    },
    {
      "cell_type": "code",
      "execution_count": null,
      "metadata": {
        "colab": {
          "base_uri": "https://localhost:8080/"
        },
        "id": "0yaZPlbm_Pq-",
        "outputId": "5d513750-998b-4397-856f-6a4869091859"
      },
      "outputs": [
        {
          "output_type": "stream",
          "name": "stdout",
          "text": [
            "+--------+--------------------+---------------------+---------------+-------------+----------+------------------+------------+------------+------------+-----------+-----+-------+----------+------------+---------------------+------------+--------------------+-----------+\n",
            "|VendorID|tpep_pickup_datetime|tpep_dropoff_datetime|passenger_count|trip_distance|RatecodeID|store_and_fwd_flag|PULocationID|DOLocationID|payment_type|fare_amount|extra|mta_tax|tip_amount|tolls_amount|improvement_surcharge|total_amount|congestion_surcharge|Airport_fee|\n",
            "+--------+--------------------+---------------------+---------------+-------------+----------+------------------+------------+------------+------------+-----------+-----+-------+----------+------------+---------------------+------------+--------------------+-----------+\n",
            "|       0|                   0|                    0|        1432168|            0|   1432168|           1432168|           0|           0|           0|          0|    0|      0|         0|           0|                    0|           0|             1432168|    1432168|\n",
            "+--------+--------------------+---------------------+---------------+-------------+----------+------------------+------------+------------+------------+-----------+-----+-------+----------+------------+---------------------+------------+--------------------+-----------+\n",
            "\n"
          ]
        }
      ],
      "source": [
        "#Columns with NULL values\n",
        "\n",
        "#Drop columns like RatecodeID, store_and_fwd_flag and impute the other NULL columns\n",
        "df.select([count(when(col(c).isNull(), c)).alias(c) for c in df.columns]).show()"
      ]
    },
    {
      "cell_type": "code",
      "execution_count": null,
      "metadata": {
        "colab": {
          "base_uri": "https://localhost:8080/"
        },
        "id": "JUuiPaujBd9T",
        "outputId": "e303ac1e-892d-4e6a-e70f-c73f3ce12b75"
      },
      "outputs": [
        {
          "output_type": "stream",
          "name": "stdout",
          "text": [
            "+---------------+-------+\n",
            "|passenger_count|  count|\n",
            "+---------------+-------+\n",
            "|              0| 121547|\n",
            "|              7|     19|\n",
            "|              6|  64571|\n",
            "|              5|  94228|\n",
            "|              1|9095870|\n",
            "|              3| 424462|\n",
            "|              8|     47|\n",
            "|              2|1716418|\n",
            "|              4| 278968|\n",
            "|           NULL|1432168|\n",
            "|              9|     11|\n",
            "+---------------+-------+\n",
            "\n"
          ]
        }
      ],
      "source": [
        "df.groupBy(\"passenger_count\").count().show()"
      ]
    },
    {
      "cell_type": "code",
      "execution_count": null,
      "metadata": {
        "colab": {
          "base_uri": "https://localhost:8080/"
        },
        "id": "MIzEH3axCPfu",
        "outputId": "f334fba9-371d-4a56-a95c-96b89a5f0916"
      },
      "outputs": [
        {
          "output_type": "stream",
          "name": "stdout",
          "text": [
            "+--------------------+--------+\n",
            "|congestion_surcharge|   count|\n",
            "+--------------------+--------+\n",
            "|                 0.0| 1041134|\n",
            "|                 2.5|10588209|\n",
            "|                 1.0|       3|\n",
            "|                2.52|       1|\n",
            "|                -2.5|  166791|\n",
            "|                NULL| 1432168|\n",
            "|                0.75|       3|\n",
            "+--------------------+--------+\n",
            "\n"
          ]
        }
      ],
      "source": [
        "df.groupBy(\"congestion_surcharge\").count().show()"
      ]
    },
    {
      "cell_type": "code",
      "execution_count": null,
      "metadata": {
        "colab": {
          "base_uri": "https://localhost:8080/"
        },
        "id": "ywgURLTZCSMw",
        "outputId": "d1479d60-1ca9-464c-e579-acdab2fd650e"
      },
      "outputs": [
        {
          "output_type": "stream",
          "name": "stdout",
          "text": [
            "+-----------+--------+\n",
            "|Airport_fee|   count|\n",
            "+-----------+--------+\n",
            "|        0.0|10635784|\n",
            "|       1.25|      14|\n",
            "|      -1.75|   37852|\n",
            "|       1.75| 1122491|\n",
            "|       NULL| 1432168|\n",
            "+-----------+--------+\n",
            "\n"
          ]
        }
      ],
      "source": [
        "df.groupBy(\"Airport_fee\").count().show()\n"
      ]
    },
    {
      "cell_type": "code",
      "execution_count": null,
      "metadata": {
        "colab": {
          "base_uri": "https://localhost:8080/"
        },
        "id": "4lV80ZGRFJ87",
        "outputId": "4e86033d-4f64-4239-a9ed-0f593d084f3d"
      },
      "outputs": [
        {
          "output_type": "stream",
          "name": "stdout",
          "text": [
            "There are 1 duplicate rows.\n"
          ]
        }
      ],
      "source": [
        "# Check for duplicate rows\n",
        "total_count = df.count()\n",
        "unique_count = df.dropDuplicates().count()\n",
        "\n",
        "if total_count > unique_count:\n",
        "    print(f\"There are {total_count - unique_count} duplicate rows.\")\n",
        "else:\n",
        "    print(\"There are no duplicate rows.\")\n"
      ]
    },
    {
      "cell_type": "code",
      "execution_count": null,
      "metadata": {
        "colab": {
          "base_uri": "https://localhost:8080/"
        },
        "id": "nKeIUkosMKeb",
        "outputId": "634ddf68-44de-410e-8cf0-f9c9160cd343"
      },
      "outputs": [
        {
          "output_type": "stream",
          "name": "stdout",
          "text": [
            "Columns with outliers: ['trip_distance', 'fare_amount', 'extra', 'mta_tax', 'tip_amount', 'tolls_amount', 'improvement_surcharge', 'total_amount', 'congestion_surcharge', 'Airport_fee', 'passenger_count']\n",
            "+-------------+-----------+-----+-------+----------+------------+---------------------+------------+--------------------+-----------+---------------+\n",
            "|trip_distance|fare_amount|extra|mta_tax|tip_amount|tolls_amount|improvement_surcharge|total_amount|congestion_surcharge|Airport_fee|passenger_count|\n",
            "+-------------+-----------+-----+-------+----------+------------+---------------------+------------+--------------------+-----------+---------------+\n",
            "|         12.5|       48.5| 7.75|    0.5|     11.55|         0.0|                  1.0|        69.3|                 0.0|       1.75|              1|\n",
            "|         4.34|       20.5|  6.0|    0.5|       8.4|         0.0|                  1.0|       38.15|                 0.0|       1.75|              1|\n",
            "|          1.3|       10.0|  1.0|    0.5|       3.1|         0.0|                  1.0|        15.6|                 0.0|        0.0|              1|\n",
            "|          1.2|        8.6|  3.5|    0.5|       0.2|         0.0|                  1.0|        13.8|                 2.5|        0.0|              1|\n",
            "|          1.0|        7.2|  3.5|    0.5|       2.0|         0.0|                  1.0|        14.2|                 2.5|        0.0|              1|\n",
            "|          1.5|       11.4|  1.0|    0.5|       2.0|         0.0|                  1.0|        18.4|                 2.5|        0.0|              1|\n",
            "|        18.41|       70.0|  0.0|    0.5|      0.15|        6.94|                  1.0|       82.84|                 2.5|       1.75|              1|\n",
            "|          1.4|        7.9|  3.5|    0.5|       2.6|         0.0|                  1.0|        15.5|                 2.5|        0.0|              4|\n",
            "|         2.31|       14.9|  1.0|    0.5|      3.98|         0.0|                  1.0|       23.88|                 2.5|        0.0|              1|\n",
            "|         0.74|        6.5|  1.0|    0.5|       2.3|         0.0|                  1.0|        13.8|                 2.5|        0.0|              1|\n",
            "|         1.78|       17.7|  1.0|    0.5|       1.0|         0.0|                  1.0|        23.7|                 2.5|        0.0|              1|\n",
            "|         2.94|       15.6|  1.0|    0.5|      5.15|         0.0|                  1.0|       25.75|                 2.5|        0.0|              1|\n",
            "|         1.82|       11.4|  1.0|    0.5|       1.5|         0.0|                  1.0|        17.9|                 2.5|        0.0|              1|\n",
            "|         1.26|        9.3|  1.0|    0.5|       0.0|         0.0|                  1.0|        14.3|                 2.5|        0.0|              1|\n",
            "|         1.04|        8.6|  1.0|    0.5|      2.72|         0.0|                  1.0|       16.32|                 2.5|        0.0|              1|\n",
            "|          3.7|       22.6|  3.5|    0.5|       4.0|         0.0|                  1.0|        31.6|                 2.5|        0.0|              1|\n",
            "|          0.9|        7.9|  3.5|    0.5|      2.55|         0.0|                  1.0|       15.45|                 2.5|        0.0|              2|\n",
            "|          5.4|       24.0|  1.0|    0.5|       0.0|         0.0|                  1.0|        29.0|                 2.5|        0.0|              1|\n",
            "|          1.5|       11.4|  3.5|    0.5|       0.0|         0.0|                  1.0|        16.4|                 2.5|        0.0|              1|\n",
            "|          5.3|       30.3|  1.0|    0.5|      7.06|         0.0|                  1.0|       42.36|                 2.5|        0.0|              1|\n",
            "+-------------+-----------+-----+-------+----------+------------+---------------------+------------+--------------------+-----------+---------------+\n",
            "only showing top 20 rows\n",
            "\n"
          ]
        }
      ],
      "source": [
        "from pyspark.sql.functions import col, when\n",
        "\n",
        "# Define numerical columns\n",
        "numerical_columns = [\"trip_distance\", \"fare_amount\", \"extra\", \"mta_tax\", \"tip_amount\",\n",
        "                     \"tolls_amount\", \"improvement_surcharge\", \"total_amount\",\n",
        "                     \"congestion_surcharge\", \"Airport_fee\", \"passenger_count\"]\n",
        "\n",
        "outlier_columns = []\n",
        "for column in numerical_columns:\n",
        "    quantiles = df.approxQuantile(column, [0.25, 0.75], 0.0)\n",
        "    Q1, Q3 = quantiles[0], quantiles[1]\n",
        "    IQR = Q3 - Q1\n",
        "    lower_bound = Q1 - 1.5 * IQR\n",
        "    upper_bound = Q3 + 1.5 * IQR\n",
        "\n",
        "    # Check if there are any outliers in the current column\n",
        "    outlier_count = df.filter((col(column) < lower_bound) | (col(column) > upper_bound)).count()\n",
        "    if outlier_count > 0:\n",
        "        outlier_columns.append(column)\n",
        "\n",
        "if outlier_columns:\n",
        "    print(f\"Columns with outliers: {outlier_columns}\")\n",
        "    df.select(outlier_columns).show()\n",
        "else:\n",
        "    print(\"No columns with outliers found.\")\n"
      ]
    },
    {
      "cell_type": "markdown",
      "metadata": {
        "id": "BGVieXg1A4lr"
      },
      "source": [
        "### Preprocessing"
      ]
    },
    {
      "cell_type": "code",
      "execution_count": null,
      "metadata": {
        "id": "jRGLYXnfAXJd"
      },
      "outputs": [],
      "source": [
        "df = df.na.drop(subset=[\"RatecodeID\", \"store_and_fwd_flag\"])"
      ]
    },
    {
      "cell_type": "code",
      "execution_count": null,
      "metadata": {
        "id": "gwjSXyGFCdtk"
      },
      "outputs": [],
      "source": [
        "## Mean imputation for passenger_count, congestion_surcharge, and Airport_fee column\n",
        "\n",
        "mean_values = df.select(\n",
        "    mean(\"passenger_count\").alias(\"mean_passenger_count\"),\n",
        "    mean(\"congestion_surcharge\").alias(\"mean_congestion_surcharge\"),\n",
        "    mean(\"Airport_fee\").alias(\"mean_airport_fee\")\n",
        ").collect()[0]\n",
        "\n",
        "# Impute null values with the calculated means\n",
        "df = df.na.fill({\n",
        "    \"passenger_count\": mean_values[\"mean_passenger_count\"],\n",
        "    \"congestion_surcharge\": mean_values[\"mean_congestion_surcharge\"],\n",
        "    \"Airport_fee\": mean_values[\"mean_airport_fee\"]\n",
        "})\n"
      ]
    },
    {
      "cell_type": "code",
      "execution_count": null,
      "metadata": {
        "id": "Rnc-ys6DGh3r"
      },
      "outputs": [],
      "source": [
        "# Outlier Handling\n",
        "# List of columns with outliers\n",
        "outlier_columns = [\"trip_distance\", \"fare_amount\", \"extra\", \"mta_tax\", \"tip_amount\",\n",
        "                   \"tolls_amount\", \"improvement_surcharge\", \"total_amount\",\n",
        "                   \"congestion_surcharge\", \"Airport_fee\", \"passenger_count\"]\n",
        "\n",
        "# Filter conditions for each column based on IQR\n",
        "for column in outlier_columns:\n",
        "    # Calculate the 25th and 75th percentiles\n",
        "    quantiles = df.approxQuantile(column, [0.25, 0.75], 0.0)\n",
        "    Q1, Q3 = quantiles[0], quantiles[1]\n",
        "    IQR = Q3 - Q1\n",
        "    lower_bound = Q1 - 1.5 * IQR\n",
        "    upper_bound = Q3 + 1.5 * IQR\n",
        "\n",
        "    # Apply the filter to remove rows outside the acceptable range for this column\n",
        "    df = df.filter((col(column) >= lower_bound) & (col(column) <= upper_bound))\n"
      ]
    },
    {
      "cell_type": "code",
      "execution_count": null,
      "metadata": {
        "colab": {
          "base_uri": "https://localhost:8080/"
        },
        "id": "YEOpbXXKP4lA",
        "outputId": "dc417aa1-f784-4f3a-c487-003f40bd6e47",
        "scrolled": true
      },
      "outputs": [
        {
          "output_type": "stream",
          "name": "stdout",
          "text": [
            "+-------+-------------------+---------------+------------------+------------------+------------------+------------------+-----------------+-------------------+------------------+------------------+-------+------------------+------------+---------------------+------------------+--------------------+-----------+\n",
            "|summary|           VendorID|passenger_count|     trip_distance|        RatecodeID|store_and_fwd_flag|      PULocationID|     DOLocationID|       payment_type|       fare_amount|             extra|mta_tax|        tip_amount|tolls_amount|improvement_surcharge|      total_amount|congestion_surcharge|Airport_fee|\n",
            "+-------+-------------------+---------------+------------------+------------------+------------------+------------------+-----------------+-------------------+------------------+------------------+-------+------------------+------------+---------------------+------------------+--------------------+-----------+\n",
            "|  count|            7027595|        7027595|           7027595|           7027595|           7027595|           7027595|          7027595|            7027595|           7027595|           7027595|7027595|           7027595|     7027595|              7027595|           7027595|             7027595|    7027595|\n",
            "|   mean| 1.7601701577851314|            1.0|1.7214847739518517|1.0031840195685722|              NULL|170.26381400749474|168.4930561593262|  1.183381370155793|12.822896034845128|1.3747096552945923|    0.5|2.5999786996834597|         0.0|                  1.0|20.200337216381328|                 2.5|        0.0|\n",
            "| stddev|0.42697952520032495|            0.0|1.1069588938644153|0.4701905837523902|              NULL|63.847198435434585|66.88481464928542|0.47349887905202115| 5.669054721303892|1.4347175757977015|    0.0| 1.772263809824876|         0.0|                  0.0| 6.685659572957779|                 0.0|        0.0|\n",
            "|    min|                  1|              1|               0.0|                 1|                 N|                 4|                1|                  1|               0.0|              -2.5|    0.5|               0.0|         0.0|                  1.0|               4.0|                 2.5|        0.0|\n",
            "|    max|                  2|              1|              7.05|                99|                 Y|               265|              265|                  4|             31.29|               6.0|    0.5|              8.15|         0.0|                  1.0|             39.27|                 2.5|        0.0|\n",
            "+-------+-------------------+---------------+------------------+------------------+------------------+------------------+-----------------+-------------------+------------------+------------------+-------+------------------+------------+---------------------+------------------+--------------------+-----------+\n",
            "\n"
          ]
        }
      ],
      "source": [
        "df.describe().show()"
      ]
    },
    {
      "cell_type": "markdown",
      "metadata": {
        "id": "t1EInrk2PveA"
      },
      "source": [
        "### Feature Engineering"
      ]
    },
    {
      "cell_type": "code",
      "execution_count": null,
      "metadata": {
        "id": "OCfbqA-LOO_F"
      },
      "outputs": [],
      "source": [
        "# 1. Extract meaningful date and time features from 'tpep_pickup_datetime'\n",
        "\n",
        "# Extract hour, day of week, month, and year\n",
        "df = df.withColumn(\"pickup_hour\", hour(\"tpep_pickup_datetime\")) \\\n",
        "       .withColumn(\"pickup_dayofweek\", dayofweek(\"tpep_pickup_datetime\")) \\\n",
        "       .withColumn(\"pickup_month\", month(\"tpep_pickup_datetime\")) \\\n",
        "       .withColumn(\"pickup_year\", year(\"tpep_pickup_datetime\"))\n",
        "\n",
        "# Calculate trip duration (in minutes) using 'tpep_pickup_datetime' and 'tpep_dropoff_datetime'\n",
        "df = df.withColumn(\"trip_duration\",\n",
        "                   (unix_timestamp(\"tpep_dropoff_datetime\") - unix_timestamp(\"tpep_pickup_datetime\")) / 60)\n",
        "\n",
        "# 2. Interaction Features\n",
        "# Create features that represent interactions between columns\n",
        "\n",
        "df = df.withColumn(\"distance_per_passenger\", col(\"trip_distance\") / col(\"passenger_count\"))\n",
        "df = df.withColumn(\"fare_per_distance\", col(\"fare_amount\") / col(\"trip_distance\"))\n",
        "df = df.withColumn(\"total_per_passenger\", col(\"total_amount\") / col(\"passenger_count\"))\n",
        "\n",
        "# 3. Aggregated Features\n",
        "# Aggregations based on locations might be useful if there's a logical grouping for PULocationID\n",
        "\n",
        "location_aggregates = df.groupBy(\"PULocationID\").agg(\n",
        "    mean(\"fare_amount\").alias(\"avg_fare_by_location\"),\n",
        "    mean(\"trip_duration\").alias(\"avg_duration_by_location\")\n",
        ")\n",
        "df = df.join(location_aggregates, on=\"PULocationID\", how=\"left\")\n"
      ]
    },
    {
      "cell_type": "code",
      "execution_count": null,
      "metadata": {
        "colab": {
          "base_uri": "https://localhost:8080/"
        },
        "id": "zIULUkllR5cx",
        "outputId": "97ff8075-28a4-4b79-e2bb-718027afc4a5"
      },
      "outputs": [
        {
          "output_type": "stream",
          "name": "stdout",
          "text": [
            "+------------+--------+--------------------+---------------------+---------------+-------------+----------+------------------+------------+------------+-----------+-----+-------+----------+------------+---------------------+------------+--------------------+-----------+-----------+----------------+------------+-----------+------------------+----------------------+------------------+-------------------+--------------------+------------------------+\n",
            "|PULocationID|VendorID|tpep_pickup_datetime|tpep_dropoff_datetime|passenger_count|trip_distance|RatecodeID|store_and_fwd_flag|DOLocationID|payment_type|fare_amount|extra|mta_tax|tip_amount|tolls_amount|improvement_surcharge|total_amount|congestion_surcharge|Airport_fee|pickup_hour|pickup_dayofweek|pickup_month|pickup_year|     trip_duration|distance_per_passenger| fare_per_distance|total_per_passenger|avg_fare_by_location|avg_duration_by_location|\n",
            "+------------+--------+--------------------+---------------------+---------------+-------------+----------+------------------+------------+------------+-----------+-----+-------+----------+------------+---------------------+------------+--------------------+-----------+-----------+----------------+------------+-----------+------------------+----------------------+------------------+-------------------+--------------------+------------------------+\n",
            "|         148|       1| 2024-06-01 00:32:24|  2024-06-01 00:40:06|              1|          1.2|         1|                 N|         114|           1|        8.6|  3.5|    0.5|       0.2|         0.0|                  1.0|        13.8|                 2.5|        0.0|          0|               7|           6|       2024|               7.7|                   1.2| 7.166666666666667|               13.8|   14.27694604959025|      13.866040003151925|\n",
            "|         148|       1| 2024-06-01 00:51:38|  2024-06-01 00:58:17|              1|          1.0|         1|                 N|         249|           1|        7.2|  3.5|    0.5|       2.0|         0.0|                  1.0|        14.2|                 2.5|        0.0|          0|               7|           6|       2024|              6.65|                   1.0|               7.2|               14.2|   14.27694604959025|      13.866040003151925|\n",
            "|         230|       2| 2024-05-31 23:38:07|  2024-05-31 23:51:42|              1|         2.31|         1|                 N|         239|           1|       14.9|  1.0|    0.5|      3.98|         0.0|                  1.0|       23.88|                 2.5|        0.0|         23|               6|           5|       2024|13.583333333333334|                  2.31|  6.45021645021645|              23.88|   13.20175553462281|      13.665321151038166|\n",
            "|         142|       2| 2024-06-01 00:00:09|  2024-06-01 00:05:11|              1|         0.74|         1|                 N|         239|           1|        6.5|  1.0|    0.5|       2.3|         0.0|                  1.0|        13.8|                 2.5|        0.0|          0|               7|           6|       2024| 5.033333333333333|                  0.74| 8.783783783783784|               13.8|  12.118354640716165|      11.595446408221868|\n",
            "|          48|       2| 2024-06-01 00:26:13|  2024-06-01 00:37:21|              1|          1.5|         1|                 N|         229|           1|       11.4|  1.0|    0.5|       2.0|         0.0|                  1.0|        18.4|                 2.5|        0.0|          0|               7|           6|       2024|11.133333333333333|                   1.5|7.6000000000000005|               18.4|  12.474883501367177|      12.216391909586184|\n",
            "+------------+--------+--------------------+---------------------+---------------+-------------+----------+------------------+------------+------------+-----------+-----+-------+----------+------------+---------------------+------------+--------------------+-----------+-----------+----------------+------------+-----------+------------------+----------------------+------------------+-------------------+--------------------+------------------------+\n",
            "only showing top 5 rows\n",
            "\n"
          ]
        }
      ],
      "source": [
        "df.show(5)"
      ]
    },
    {
      "cell_type": "markdown",
      "metadata": {
        "id": "_ks7M2MiU5rO"
      },
      "source": [
        "### Check feature importance for fare price prediction"
      ]
    },
    {
      "cell_type": "code",
      "execution_count": null,
      "metadata": {
        "colab": {
          "base_uri": "https://localhost:8080/"
        },
        "id": "pc4P6RcvTxGj",
        "outputId": "ec440326-cec7-47bb-e168-fd812dde99a9"
      },
      "outputs": [
        {
          "output_type": "stream",
          "name": "stdout",
          "text": [
            "Correlation between fare_amount and PULocationID: -0.055466772766374746\n",
            "Correlation between fare_amount and VendorID: 0.03323846291452289\n",
            "Correlation between fare_amount and passenger_count: nan\n",
            "Correlation between fare_amount and trip_distance: 0.8615263454503836\n",
            "Correlation between fare_amount and RatecodeID: -0.007120726234930287\n",
            "Correlation between fare_amount and DOLocationID: -0.07763817327800693\n",
            "Correlation between fare_amount and payment_type: -0.04495555102087145\n",
            "Correlation between fare_amount and extra: -0.030650755290183938\n",
            "Correlation between fare_amount and mta_tax: nan\n",
            "Correlation between fare_amount and tip_amount: 0.4119330402119974\n",
            "Correlation between fare_amount and tolls_amount: nan\n",
            "Correlation between fare_amount and improvement_surcharge: nan\n",
            "Correlation between fare_amount and congestion_surcharge: nan\n",
            "Correlation between fare_amount and Airport_fee: nan\n",
            "Correlation between fare_amount and pickup_hour: 0.02399679210210237\n",
            "Correlation between fare_amount and pickup_dayofweek: 0.01638166421549456\n",
            "Correlation between fare_amount and pickup_month: 0.01646363269688864\n",
            "Correlation between fare_amount and pickup_year: 0.00029387813316601795\n",
            "Correlation between fare_amount and trip_duration: 0.2179241280231426\n",
            "Correlation between fare_amount and distance_per_passenger: 0.8615263454503836\n",
            "Correlation between fare_amount and fare_per_distance: -0.11464747979174729\n",
            "Correlation between fare_amount and total_per_passenger: 0.9559497906256692\n",
            "Correlation between fare_amount and avg_fare_by_location: 0.19058689026561074\n",
            "Correlation between fare_amount and avg_duration_by_location: 0.16894135874973348\n"
          ]
        }
      ],
      "source": [
        "input_features = [\"PULocationID\", \"VendorID\", \"passenger_count\", \"trip_distance\", \"RatecodeID\",\n",
        "                  \"DOLocationID\", \"payment_type\", \"extra\", \"mta_tax\", \"tip_amount\",\n",
        "                  \"tolls_amount\", \"improvement_surcharge\", \"congestion_surcharge\",\n",
        "                  \"Airport_fee\", \"pickup_hour\", \"pickup_dayofweek\", \"pickup_month\",\n",
        "                  \"pickup_year\", \"trip_duration\", \"distance_per_passenger\",\n",
        "                  \"fare_per_distance\", \"total_per_passenger\", \"avg_fare_by_location\",\n",
        "                  \"avg_duration_by_location\"]\n",
        "for feature in input_features:\n",
        "    correlation = df.stat.corr(\"fare_amount\", feature)\n",
        "    print(f\"Correlation between fare_amount and {feature}: {correlation}\")\n"
      ]
    },
    {
      "cell_type": "code",
      "execution_count": null,
      "metadata": {
        "id": "cqipbatXYi9P"
      },
      "outputs": [],
      "source": [
        "# Define target and selected input features to retain\n",
        "target_column = \"fare_amount\"\n",
        "selected_features = [\n",
        "    \"trip_distance\", \"tip_amount\", \"trip_duration\", \"distance_per_passenger\",\n",
        "    \"fare_per_distance\", \"total_per_passenger\", \"avg_fare_by_location\",\n",
        "    \"avg_duration_by_location\"\n",
        "]\n",
        "\n",
        "# Retain only the selected features and the target column\n",
        "columns_to_keep = [target_column] + selected_features\n",
        "df = df.select(*columns_to_keep)\n",
        "\n"
      ]
    },
    {
      "cell_type": "code",
      "execution_count": null,
      "metadata": {
        "colab": {
          "base_uri": "https://localhost:8080/"
        },
        "id": "GEhI-Mg5bv-V",
        "outputId": "5169c05d-471a-43b3-c8fa-751624f23d42"
      },
      "outputs": [
        {
          "output_type": "stream",
          "name": "stdout",
          "text": [
            "root\n",
            " |-- fare_amount: double (nullable = true)\n",
            " |-- trip_distance: double (nullable = true)\n",
            " |-- tip_amount: double (nullable = true)\n",
            " |-- trip_duration: double (nullable = true)\n",
            " |-- distance_per_passenger: double (nullable = true)\n",
            " |-- fare_per_distance: double (nullable = true)\n",
            " |-- total_per_passenger: double (nullable = true)\n",
            " |-- avg_fare_by_location: double (nullable = true)\n",
            " |-- avg_duration_by_location: double (nullable = true)\n",
            "\n"
          ]
        }
      ],
      "source": [
        "# Display the schema to verify the DataFrame structure\n",
        "df.printSchema()"
      ]
    },
    {
      "cell_type": "markdown",
      "metadata": {
        "id": "TqWvZwvAfJRJ"
      },
      "source": [
        "### Building Linear Regression model"
      ]
    },
    {
      "cell_type": "code",
      "execution_count": null,
      "metadata": {
        "id": "M907Jw7RsGWX"
      },
      "outputs": [],
      "source": [
        "df = df.drop(\"features\", \"out_features\")\n"
      ]
    },
    {
      "cell_type": "code",
      "execution_count": null,
      "metadata": {
        "colab": {
          "base_uri": "https://localhost:8080/"
        },
        "id": "Mx3FtZb_sLN1",
        "outputId": "861796be-3945-439d-f578-f7e5d4d65793"
      },
      "outputs": [
        {
          "output_type": "stream",
          "name": "stdout",
          "text": [
            "root\n",
            " |-- fare_amount: double (nullable = true)\n",
            " |-- trip_distance: double (nullable = true)\n",
            " |-- tip_amount: double (nullable = true)\n",
            " |-- trip_duration: double (nullable = true)\n",
            " |-- distance_per_passenger: double (nullable = true)\n",
            " |-- fare_per_distance: double (nullable = true)\n",
            " |-- total_per_passenger: double (nullable = true)\n",
            " |-- avg_fare_by_location: double (nullable = true)\n",
            " |-- avg_duration_by_location: double (nullable = true)\n",
            "\n"
          ]
        }
      ],
      "source": [
        "df.printSchema()"
      ]
    },
    {
      "cell_type": "code",
      "execution_count": null,
      "metadata": {
        "colab": {
          "base_uri": "https://localhost:8080/"
        },
        "id": "5m1PX5Hva8l5",
        "outputId": "fcc91bfc-2772-4a80-88f5-8f554992c2bb"
      },
      "outputs": [
        {
          "output_type": "stream",
          "name": "stdout",
          "text": [
            "Root Mean Squared Error (RMSE) on test data: 0.9254617354728245\n"
          ]
        }
      ],
      "source": [
        "# Step 1: Ensure the target column and selected features are cast to DoubleType\n",
        "for column in [target_column] + selected_features:\n",
        "    df = df.withColumn(column, col(column).cast(DoubleType()))\n",
        "\n",
        "# Step 2: Remove rows with NaN, null, or infinite values in selected columns\n",
        "for column in [target_column] + selected_features:\n",
        "    df = df.filter(~isnan(col(column)) & ~isnull(col(column)) & (col(column) != float(\"inf\")) & (col(column) != float(\"-inf\")))\n",
        "\n",
        "# Step 3: Assemble selected features into a single feature vector\n",
        "assembler = VectorAssembler(inputCols=selected_features, outputCol=\"features\")\n",
        "df = assembler.transform(df)\n",
        "\n",
        "# Step 4: Normalize the feature vector\n",
        "scaler = StandardScaler(inputCol=\"features\", outputCol=\"scaled_features\", withMean=True, withStd=True)\n",
        "scaler_model = scaler.fit(df)\n",
        "df = scaler_model.transform(df)\n",
        "\n",
        "train, test = df.randomSplit([0.8, 0.2], seed=42)\n",
        "\n",
        "lr = LinearRegression(featuresCol=\"scaled_features\", labelCol=target_column)\n",
        "\n",
        "lr_model = lr.fit(train)\n",
        "\n",
        "predictions = lr_model.transform(test)\n",
        "\n",
        "# Step 9: Evaluate the model's performance using RMSE\n",
        "evaluator = RegressionEvaluator(labelCol=target_column, predictionCol=\"prediction\", metricName=\"rmse\")\n",
        "rmse = evaluator.evaluate(predictions)\n",
        "print(f\"Root Mean Squared Error (RMSE) on test data: {rmse}\")\n",
        "\n"
      ]
    },
    {
      "cell_type": "code",
      "execution_count": null,
      "metadata": {
        "colab": {
          "base_uri": "https://localhost:8080/"
        },
        "id": "xXTw3TWxhVbP",
        "outputId": "41d4d41a-1443-4532-d119-fe876be63180"
      },
      "outputs": [
        {
          "output_type": "stream",
          "name": "stdout",
          "text": [
            "+-----------+------------------+\n",
            "|fare_amount|        prediction|\n",
            "+-----------+------------------+\n",
            "|       14.2|14.224764206474715|\n",
            "|       12.8|13.168413268404592|\n",
            "|       10.0|10.558977928362122|\n",
            "|        7.2| 7.499640482122387|\n",
            "|       15.6|14.932052061670023|\n",
            "|        9.3| 8.543832208824178|\n",
            "|        9.3| 8.465162748433297|\n",
            "|       10.7| 9.857194826458322|\n",
            "|       12.1|12.513389493725487|\n",
            "|        7.9| 8.318493676227515|\n",
            "+-----------+------------------+\n",
            "\n"
          ]
        }
      ],
      "source": [
        "from pyspark.sql.functions import rand\n",
        "\n",
        "random_predictions = predictions.select(target_column, \"prediction\").orderBy(rand()).limit(10)\n",
        "\n",
        "random_predictions.show()\n"
      ]
    },
    {
      "cell_type": "markdown",
      "metadata": {
        "id": "KeZABD_1fTwO"
      },
      "source": [
        "#### Relative RMSE tells us that the predicted fare amount on an average varies by 7.38% from the actual value"
      ]
    },
    {
      "cell_type": "code",
      "execution_count": null,
      "metadata": {
        "colab": {
          "base_uri": "https://localhost:8080/"
        },
        "id": "nLLi1csXdLmq",
        "outputId": "f5711d2c-a166-4dcc-ffce-f9570a8598e1"
      },
      "outputs": [
        {
          "output_type": "stream",
          "name": "stdout",
          "text": [
            "Relative RMSE: 7.20%\n"
          ]
        }
      ],
      "source": [
        "# Calculate the mean of fare_amount in the test set\n",
        "mean_fare = test.select(\"fare_amount\").groupBy().avg().first()[0]\n",
        "\n",
        "# Calculate relative RMSE as a percentage\n",
        "relative_rmse = (rmse / mean_fare) * 100\n",
        "print(f\"Relative RMSE: {relative_rmse:.2f}%\")\n"
      ]
    },
    {
      "cell_type": "code",
      "execution_count": null,
      "metadata": {
        "colab": {
          "base_uri": "https://localhost:8080/"
        },
        "id": "-rj_drUcad7f",
        "outputId": "34c0725d-dd7e-4209-e6e3-f8dd2d212626"
      },
      "outputs": [
        {
          "output_type": "stream",
          "name": "stdout",
          "text": [
            "root\n",
            " |-- fare_amount: double (nullable = true)\n",
            " |-- trip_distance: double (nullable = true)\n",
            " |-- tip_amount: double (nullable = true)\n",
            " |-- trip_duration: double (nullable = true)\n",
            " |-- distance_per_passenger: double (nullable = true)\n",
            " |-- fare_per_distance: double (nullable = true)\n",
            " |-- total_per_passenger: double (nullable = true)\n",
            " |-- avg_fare_by_location: double (nullable = true)\n",
            " |-- avg_duration_by_location: double (nullable = true)\n",
            " |-- features: vector (nullable = true)\n",
            " |-- scaled_features: vector (nullable = true)\n",
            "\n"
          ]
        }
      ],
      "source": [
        "df.printSchema()"
      ]
    },
    {
      "cell_type": "markdown",
      "metadata": {
        "id": "VVjjLtqAhEQU"
      },
      "source": [
        "### Checking for Overfitting or Underfitting"
      ]
    },
    {
      "cell_type": "code",
      "execution_count": null,
      "metadata": {
        "colab": {
          "base_uri": "https://localhost:8080/"
        },
        "id": "oWvNKnhtf1bl",
        "outputId": "1fe1c135-f9cd-44af-9193-8d1ccecae245"
      },
      "outputs": [
        {
          "output_type": "stream",
          "name": "stdout",
          "text": [
            "Training RMSE: 0.9259958591017234\n",
            "Test RMSE: 0.9254617354728245\n",
            "The model seems to be well-fitted.\n"
          ]
        }
      ],
      "source": [
        "from pyspark.ml.evaluation import RegressionEvaluator\n",
        "\n",
        "# Step 1: Calculate RMSE on the Training Data\n",
        "train_predictions = lr_model.transform(train)\n",
        "train_rmse = evaluator.evaluate(train_predictions, {evaluator.metricName: \"rmse\"})\n",
        "print(f\"Training RMSE: {train_rmse}\")\n",
        "\n",
        "# Step 2: Calculate RMSE on the Test Data\n",
        "test_predictions = lr_model.transform(test)\n",
        "test_rmse = evaluator.evaluate(test_predictions, {evaluator.metricName: \"rmse\"})\n",
        "print(f\"Test RMSE: {test_rmse}\")\n",
        "\n",
        "\n",
        "# Step 3: Analyze Overfitting or Underfitting\n",
        "if train_rmse < test_rmse * 0.7:\n",
        "    print(\"The model might be overfitting.\")\n",
        "elif train_rmse > test_rmse * 1.3:\n",
        "    print(\"The model might be underfitting.\")\n",
        "else:\n",
        "    print(\"The model seems to be well-fitted.\")\n"
      ]
    },
    {
      "cell_type": "code",
      "execution_count": null,
      "metadata": {
        "id": "giuuXEpNr-7O"
      },
      "outputs": [],
      "source": [
        "spark.stop()"
      ]
    },
    {
      "cell_type": "markdown",
      "metadata": {
        "id": "bXJsVHaTwHLz"
      },
      "source": [
        "### Visualization Plots Using Hive"
      ]
    },
    {
      "cell_type": "code",
      "execution_count": null,
      "metadata": {
        "id": "y0892vCBpKCk"
      },
      "outputs": [],
      "source": [
        "# Save DataFrame as a temporary view\n",
        "df.createOrReplaceTempView(\"NYC_Taxi_Trip_Data_Analysis\")\n"
      ]
    },
    {
      "cell_type": "code",
      "execution_count": null,
      "metadata": {
        "collapsed": true,
        "id": "I42dV4r4ttad",
        "jupyter": {
          "outputs_hidden": true
        }
      },
      "outputs": [],
      "source": [
        "fare_vs_distance = spark.sql(\"\"\"\n",
        "    SELECT trip_distance, fare_amount\n",
        "    FROM NYC_Taxi_Trip_Data_Analysis\n",
        "    WHERE trip_distance < 50\n",
        "\"\"\")\n",
        "\n",
        "fare_vs_distance_df = fare_vs_distance.toPandas()"
      ]
    },
    {
      "cell_type": "code",
      "execution_count": null,
      "metadata": {
        "colab": {
          "base_uri": "https://localhost:8080/",
          "height": 564
        },
        "id": "z16_mktNvKgs",
        "outputId": "7c2639ae-f13d-4deb-96ef-d47872025020"
      },
      "outputs": [
        {
          "output_type": "display_data",
          "data": {
            "text/plain": [
              "<Figure size 1000x600 with 2 Axes>"
            ],
            "image/png": "[encoded data removed]"
          },
          "metadata": {}
        }
      ],
      "source": [
        "# Hexbin plot\n",
        "plt.figure(figsize=(10, 6))\n",
        "plt.hexbin(fare_vs_distance_df[\"trip_distance\"], fare_vs_distance_df[\"fare_amount\"], gridsize=50, cmap=\"Blues\")\n",
        "plt.colorbar(label=\"Density\")\n",
        "plt.xlabel(\"Trip Distance\")\n",
        "plt.ylabel(\"Fare Amount\")\n",
        "plt.title(\"Fare Amount vs. Trip Distance (Hexbin Plot)\")\n",
        "plt.grid(True)\n",
        "plt.show()"
      ]
    },
    {
      "cell_type": "code",
      "execution_count": null,
      "metadata": {
        "id": "YI8u3yGfo-PR"
      },
      "outputs": [],
      "source": [
        "spark.stop()"
      ]
    }
  ],
  "metadata": {
    "colab": {
      "provenance": []
    },
    "kernelspec": {
      "display_name": "Python 3",
      "language": "python",
      "name": "python3"
    },
    "language_info": {
      "codemirror_mode": {
        "name": "ipython",
        "version": 3
      },
      "file_extension": ".py",
      "mimetype": "text/x-python",
      "name": "python",
      "nbconvert_exporter": "python",
      "pygments_lexer": "ipython3",
      "version": "3.10.10"
    }
  },
  "nbformat": 4,
  "nbformat_minor": 0
}